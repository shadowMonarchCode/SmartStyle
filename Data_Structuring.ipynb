{
 "cells": [
  {
   "cell_type": "code",
   "execution_count": 1,
   "metadata": {},
   "outputs": [],
   "source": [
    "import os\n",
    "import json\n",
    "import cv2\n",
    "import shutil\n",
    "import pandas as pd\n",
    "from sklearn.model_selection import train_test_split\n",
    "\n",
    "HOME = os.getcwd()\n",
    "os.chdir(HOME)\n",
    "\n",
    "ann_dir = \"./data/annos\"\n",
    "img_dir = \"./data/image\""
   ]
  },
  {
   "attachments": {},
   "cell_type": "markdown",
   "metadata": {},
   "source": [
    "# Dataset"
   ]
  },
  {
   "cell_type": "code",
   "execution_count": 2,
   "metadata": {},
   "outputs": [],
   "source": [
    "df = []\n",
    "for ann in os.listdir(ann_dir):\n",
    "    with open(os.path.join(ann_dir, ann)) as file:\n",
    "        data = json.load(file)\n",
    "    for key in data.keys():\n",
    "        data[key][\"id\"] = ann\n",
    "        df.append(data[key])\n",
    "\n",
    "df = pd.DataFrame(df, columns=[\"id\", \"category_id\", \"category_name\", \"bounding_box\"])\n",
    "\n",
    "temp = pd.read_csv(\"FullShot.csv\", usecols=[\"id\", \"height\", \"width\"])\n",
    "\n",
    "df[\"id\"] = df[\"id\"].apply(lambda x: x.split(\".\")[0])\n",
    "temp[\"id\"] = temp[\"id\"].apply(lambda x: x.split(\".\")[0])\n",
    "\n",
    "df = df.merge(temp, on=\"id\")"
   ]
  },
  {
   "cell_type": "code",
   "execution_count": 3,
   "metadata": {},
   "outputs": [],
   "source": [
    "df[\"Xmin\"] = df[\"bounding_box\"].apply(lambda x: x[0])  # X_min of bounding box\n",
    "df[\"Ymin\"] = df[\"bounding_box\"].apply(lambda x: x[1])  # Y_min of bounding box\n",
    "df[\"Xmax\"] = df[\"bounding_box\"].apply(lambda x: x[2])  # X_max of bounding box\n",
    "df[\"Ymax\"] = df[\"bounding_box\"].apply(lambda x: x[3])  # Y_max of bounding box\n",
    "\n",
    "df[\"height_temp\"] = df[\"Ymax\"] - df[\"Ymin\"]  # height not normalized\n",
    "df[\"width_temp\"] = df[\"Xmax\"] - df[\"Xmin\"]  # width not normalized\n",
    "df[\"center x\"] = df[\"Xmin\"] + df[\"width_temp\"] / 2  # X_center\n",
    "df[\"center y\"] = df[\"Ymin\"] + df[\"height_temp\"] / 2  # Y_center\n",
    "\n",
    "df[\"center x\"] = df[\"center x\"] / df[\"width\"]  # Normalized X_center\n",
    "df[\"center y\"] = df[\"center y\"] / df[\"height\"]  # Normalized Y_center\n",
    "df[\"height\"] = df[\"height_temp\"] / df[\"height\"]  # normalized height\n",
    "df[\"width\"] = df[\"width_temp\"] / df[\"width\"]  # normalized width\n",
    "df[\"category_id\"] = df[\"category_id\"] - 1\n",
    "\n",
    "# new dataframe in same order as required in YOLO\n",
    "final_df = df[[\"id\", \"category_id\", \"center x\", \"center y\", \"width\", \"height\"]]"
   ]
  },
  {
   "cell_type": "code",
   "execution_count": 4,
   "metadata": {},
   "outputs": [
    {
     "data": {
      "text/html": [
       "<div>\n",
       "<style scoped>\n",
       "    .dataframe tbody tr th:only-of-type {\n",
       "        vertical-align: middle;\n",
       "    }\n",
       "\n",
       "    .dataframe tbody tr th {\n",
       "        vertical-align: top;\n",
       "    }\n",
       "\n",
       "    .dataframe thead th {\n",
       "        text-align: right;\n",
       "    }\n",
       "</style>\n",
       "<table border=\"1\" class=\"dataframe\">\n",
       "  <thead>\n",
       "    <tr style=\"text-align: right;\">\n",
       "      <th></th>\n",
       "      <th>id</th>\n",
       "      <th>category_id</th>\n",
       "      <th>center x</th>\n",
       "      <th>center y</th>\n",
       "      <th>width</th>\n",
       "      <th>height</th>\n",
       "    </tr>\n",
       "  </thead>\n",
       "  <tbody>\n",
       "    <tr>\n",
       "      <th>0</th>\n",
       "      <td>000001</td>\n",
       "      <td>12</td>\n",
       "      <td>0.530983</td>\n",
       "      <td>0.483173</td>\n",
       "      <td>0.190171</td>\n",
       "      <td>0.360577</td>\n",
       "    </tr>\n",
       "    <tr>\n",
       "      <th>1</th>\n",
       "      <td>000001</td>\n",
       "      <td>4</td>\n",
       "      <td>0.519231</td>\n",
       "      <td>0.367788</td>\n",
       "      <td>0.188034</td>\n",
       "      <td>0.126603</td>\n",
       "    </tr>\n",
       "    <tr>\n",
       "      <th>2</th>\n",
       "      <td>000002</td>\n",
       "      <td>12</td>\n",
       "      <td>0.500000</td>\n",
       "      <td>0.403045</td>\n",
       "      <td>0.247863</td>\n",
       "      <td>0.421474</td>\n",
       "    </tr>\n",
       "    <tr>\n",
       "      <th>3</th>\n",
       "      <td>000002</td>\n",
       "      <td>4</td>\n",
       "      <td>0.480769</td>\n",
       "      <td>0.269231</td>\n",
       "      <td>0.235043</td>\n",
       "      <td>0.150641</td>\n",
       "    </tr>\n",
       "    <tr>\n",
       "      <th>4</th>\n",
       "      <td>000008</td>\n",
       "      <td>11</td>\n",
       "      <td>0.588889</td>\n",
       "      <td>0.590000</td>\n",
       "      <td>0.804444</td>\n",
       "      <td>0.670000</td>\n",
       "    </tr>\n",
       "  </tbody>\n",
       "</table>\n",
       "</div>"
      ],
      "text/plain": [
       "       id  category_id  center x  center y     width    height\n",
       "0  000001           12  0.530983  0.483173  0.190171  0.360577\n",
       "1  000001            4  0.519231  0.367788  0.188034  0.126603\n",
       "2  000002           12  0.500000  0.403045  0.247863  0.421474\n",
       "3  000002            4  0.480769  0.269231  0.235043  0.150641\n",
       "4  000008           11  0.588889  0.590000  0.804444  0.670000"
      ]
     },
     "execution_count": 4,
     "metadata": {},
     "output_type": "execute_result"
    }
   ],
   "source": [
    "final_df.head()"
   ]
  },
  {
   "cell_type": "code",
   "execution_count": 5,
   "metadata": {},
   "outputs": [],
   "source": [
    "os.makedirs(\"./data/labels\", exist_ok=True)\n",
    "\n",
    "for img_value in final_df.groupby(\"id\"):\n",
    "    label_path = \"./data/labels/\" + img_value[0] + \".txt\"\n",
    "    img_value[1].drop(\"id\", inplace=True, axis=1)\n",
    "    img_value[1].to_csv(label_path, header=False, index=False, sep=\" \")"
   ]
  },
  {
   "cell_type": "code",
   "execution_count": 16,
   "metadata": {},
   "outputs": [],
   "source": [
    "if os.path.exists('./data/annos/'):\n",
    "    for file in os.listdir('./data/annos'):\n",
    "        os.remove('./data/annos/'+file)\n",
    "    os.removedirs('./data/annos')\n",
    "\n",
    "os.rename('./data/image/', './data/images/')"
   ]
  },
  {
   "cell_type": "code",
   "execution_count": 17,
   "metadata": {},
   "outputs": [],
   "source": [
    "# Read images and labels\n",
    "images = [\n",
    "    os.path.join(\"./data/images/\", file_path)\n",
    "    for file_path in os.listdir(\"./data/images/\")\n",
    "]\n",
    "labels = [\n",
    "    os.path.join(\"./data/labels/\", file_path)\n",
    "    for file_path in os.listdir(\"./data/labels/\")\n",
    "]\n",
    "\n",
    "images.sort()\n",
    "labels.sort()\n",
    "\n",
    "# Split the dataset into train-valid-test splits\n",
    "train_images, val_images, train_labels, val_labels = train_test_split(\n",
    "    images, labels, test_size=0.2, random_state=1\n",
    ")\n",
    "val_images, test_images, val_labels, test_labels = train_test_split(\n",
    "    val_images, val_labels, test_size=0.15, random_state=1\n",
    ")"
   ]
  },
  {
   "cell_type": "code",
   "execution_count": 18,
   "metadata": {},
   "outputs": [],
   "source": [
    "#Utility function to move images \n",
    "def move_files_to_folder(files, final_folder):\n",
    "    if not os.path.exists(final_folder):\n",
    "        os.mkdir(final_folder)\n",
    "    for file in files:\n",
    "        try:\n",
    "            shutil.move(file, final_folder)\n",
    "        except:\n",
    "            print(file)\n",
    "            assert False\n",
    "\n",
    "# Move the splits into their folders\n",
    "move_files_to_folder(train_images, './data/images/train')\n",
    "move_files_to_folder(val_images, './data/images/val/')\n",
    "move_files_to_folder(test_images, './data/images/test/')\n",
    "move_files_to_folder(train_labels, './data/labels/train/')\n",
    "move_files_to_folder(val_labels, './data/labels/val/')\n",
    "move_files_to_folder(test_labels, './data/labels/test/')"
   ]
  }
 ],
 "metadata": {
  "kernelspec": {
   "display_name": "Python 3",
   "language": "python",
   "name": "python3"
  },
  "language_info": {
   "codemirror_mode": {
    "name": "ipython",
    "version": 3
   },
   "file_extension": ".py",
   "mimetype": "text/x-python",
   "name": "python",
   "nbconvert_exporter": "python",
   "pygments_lexer": "ipython3",
   "version": "3.10.10"
  },
  "orig_nbformat": 4
 },
 "nbformat": 4,
 "nbformat_minor": 2
}
